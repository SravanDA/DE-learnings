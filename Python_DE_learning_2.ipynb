{
 "cells": [
  {
   "cell_type": "code",
   "execution_count": 2,
   "metadata": {},
   "outputs": [],
   "source": [
    "#OOPS IN PYTHON\n",
    "\n",
    "class Employee:\n",
    "    #constructor of a class\n",
    "\n",
    "    def __init__(self, name, salary):\n",
    "        #instance attribute\n",
    "        self.name = name\n",
    "        self.salary = salary\n",
    "        #method of class\n",
    "    def displayEmplyeeInfo(self):\n",
    "        print(f\"Emplyee Name: {self.name}, Employee Salary: {self.salary}\")"
   ]
  }
 ],
 "metadata": {
  "kernelspec": {
   "display_name": "Python 3",
   "language": "python",
   "name": "python3"
  },
  "language_info": {
   "codemirror_mode": {
    "name": "ipython",
    "version": 3
   },
   "file_extension": ".py",
   "mimetype": "text/x-python",
   "name": "python",
   "nbconvert_exporter": "python",
   "pygments_lexer": "ipython3",
   "version": "3.9.6"
  }
 },
 "nbformat": 4,
 "nbformat_minor": 2
}
