{
 "cells": [
  {
   "cell_type": "code",
   "execution_count": 1,
   "metadata": {},
   "outputs": [
    {
     "name": "stdout",
     "output_type": "stream",
     "text": [
      "Hello world\n"
     ]
    }
   ],
   "source": [
    "print(\"Hello world\")\n"
   ]
  },
  {
   "cell_type": "code",
   "execution_count": 58,
   "metadata": {},
   "outputs": [],
   "source": [
    "gf_name = \"chuubaa\"\n",
    "bf_name = \"Shuuu\"\n",
    "bf_job_type=\"Data Engineer\"\n",
    "gf_job_type=\"Professor\"\n",
    "salary_earned=1000000000000"
   ]
  },
  {
   "cell_type": "code",
   "execution_count": 59,
   "metadata": {},
   "outputs": [
    {
     "name": "stdout",
     "output_type": "stream",
     "text": [
      "I am Shuuu and she is chuubaa and I am a Data Engineer and she is a  Professor and we are living very happily, say thuthuthu\n",
      "<class 'str'>\n",
      "My salary is 1000000000000\n"
     ]
    }
   ],
   "source": [
    "print(\"I am\",bf_name, \"and she is\", gf_name, \"and I am a\",bf_job_type,\"and she is a \",gf_job_type, \"and we are living very happily, say thuthuthu\")\n",
    "print(type(gf_name))\n",
    "salary_casted = str(salary_earned)\n",
    "print(\"My salary is\", salary_casted)\n"
   ]
  },
  {
   "cell_type": "code",
   "execution_count": 6,
   "metadata": {},
   "outputs": [
    {
     "name": "stdout",
     "output_type": "stream",
     "text": [
      "Sure marry u\n"
     ]
    }
   ],
   "source": [
    "if gf_job_type== \"Professor\":\n",
    "   print(\"Sure marry u\")\n",
    "else:\n",
    "   print(\"No marry u\")"
   ]
  },
  {
   "cell_type": "code",
   "execution_count": 15,
   "metadata": {},
   "outputs": [
    {
     "name": "stdout",
     "output_type": "stream",
     "text": [
      "4\n",
      "6\n",
      "8\n",
      "10\n",
      "12\n"
     ]
    }
   ],
   "source": [
    "love = 2\n",
    "for num in range(1,11):\n",
    "    if num % 2 == 0:\n",
    "        print(love + num)\n",
    "    else:\n",
    "        exit    \n"
   ]
  },
  {
   "cell_type": "code",
   "execution_count": 16,
   "metadata": {},
   "outputs": [
    {
     "name": "stdout",
     "output_type": "stream",
     "text": [
      "27\n"
     ]
    }
   ],
   "source": [
    "#finding the sum of elements in a list\n",
    "\n",
    "int_list=[2,5,8,3,9]\n",
    "list_sum = 0\n",
    "for num in int_list:\n",
    "    list_sum += num\n",
    "    \n",
    "print(list_sum)\n",
    "\n",
    "    "
   ]
  },
  {
   "cell_type": "code",
   "execution_count": 17,
   "metadata": {},
   "outputs": [
    {
     "name": "stdout",
     "output_type": "stream",
     "text": [
      "9 * 1 = 9\n",
      "9 * 2 = 18\n",
      "9 * 3 = 27\n",
      "9 * 4 = 36\n",
      "9 * 5 = 45\n",
      "9 * 6 = 54\n",
      "9 * 7 = 63\n",
      "9 * 8 = 72\n",
      "9 * 9 = 81\n",
      "9 * 10 = 90\n"
     ]
    }
   ],
   "source": [
    "#print the table of 9 using while loop\n",
    "\n",
    "num = 9\n",
    "counter = 1\n",
    "\n",
    "while counter <= 10:\n",
    "    ans = num * counter\n",
    "    print(f\"{num} * {counter} = {ans}\")\n",
    "    \n",
    "    "
   ]
  },
  {
   "cell_type": "code",
   "execution_count": 25,
   "metadata": {},
   "outputs": [
    {
     "name": "stdout",
     "output_type": "stream",
     "text": [
      "current sport Football\n",
      "current sport Basketball\n",
      "current sport Tennis\n",
      "current sport Cricket\n",
      "current sport Baseball\n",
      "current sport Golf\n",
      "Golf is the best sport\n"
     ]
    }
   ],
   "source": [
    "sports = [\"Football\", \"Basketball\", \"Tennis\", \"Cricket\", \"Baseball\", \"Golf\", \"Rugby\", \"Volleyball\", \"Hockey\", \"Soccer\"]\n",
    "for num in sports:\n",
    "    print(\"current sport\", num)\n",
    "    if num == \"Golf\":\n",
    "        print(\"Golf is the best sport\")\n",
    "        break"
   ]
  },
  {
   "cell_type": "code",
   "execution_count": 27,
   "metadata": {},
   "outputs": [
    {
     "name": "stdout",
     "output_type": "stream",
     "text": [
      "[2, 5, 7]\n"
     ]
    }
   ],
   "source": [
    "L1 = []\n",
    "L1.append(2)\n",
    "L1.append(5)\n",
    "L1.append(7)\n",
    "\n",
    "print(L1)\n"
   ]
  },
  {
   "cell_type": "code",
   "execution_count": 34,
   "metadata": {},
   "outputs": [
    {
     "name": "stdout",
     "output_type": "stream",
     "text": [
      "[1, 2, 3, 4, 5, 6, 7, 8, 9, 10, 11, 12, 13, 14, 15, 16, 17, 18, 19, 20]\n",
      "length of the given length : 20\n"
     ]
    }
   ],
   "source": [
    "int_list=[]\n",
    "for num in range(1,21):\n",
    "    int_list.append(num)\n",
    "print(int_list)\n",
    "print(\"length of the given length :\", len(int_list))"
   ]
  },
  {
   "cell_type": "code",
   "execution_count": 36,
   "metadata": {},
   "outputs": [
    {
     "name": "stdout",
     "output_type": "stream",
     "text": [
      "the maximum of the list is : 9\n"
     ]
    }
   ],
   "source": [
    "list1=[1,3,5,5,6,9,3,7]\n",
    "print(\"the maximum of the list is :\", max(list1))"
   ]
  },
  {
   "cell_type": "code",
   "execution_count": 40,
   "metadata": {},
   "outputs": [
    {
     "name": "stdout",
     "output_type": "stream",
     "text": [
      "Love you Vannu, susu kazhinjj vanappo 99.69 love vannu\n"
     ]
    }
   ],
   "source": [
    "#functions in python\n",
    "def lovevannu(percent):\n",
    "    print(\"Love you Vannu, susu kazhinjj vanappo\", percent, \"love vannu\")\n",
    "\n",
    "lovevannu(99.69)"
   ]
  },
  {
   "cell_type": "code",
   "execution_count": 41,
   "metadata": {},
   "outputs": [
    {
     "name": "stdout",
     "output_type": "stream",
     "text": [
      "5.0\n"
     ]
    }
   ],
   "source": [
    "def avg_calc(a,b):\n",
    "    return (a+b)/2\n",
    "print(avg_calc(2,8))"
   ]
  },
  {
   "cell_type": "code",
   "execution_count": 46,
   "metadata": {},
   "outputs": [
    {
     "name": "stdout",
     "output_type": "stream",
     "text": [
      "3628800\n"
     ]
    }
   ],
   "source": [
    "def facto_num(a):\n",
    "    if a == 0 or a == 1:\n",
    "        return 1\n",
    "    else:\n",
    "        return a * facto_num(a-1)\n",
    "print(facto_num(10))"
   ]
  },
  {
   "cell_type": "code",
   "execution_count": 47,
   "metadata": {},
   "outputs": [
    {
     "name": "stdout",
     "output_type": "stream",
     "text": [
      "20\n"
     ]
    }
   ],
   "source": [
    "#lambda function in python\n",
    "#lambda function is a small anonymous function\n",
    "#it can take any number of arguments but can have only one expression\n",
    "#it is used to create small functions\n",
    " \n",
    "lambda_func_add = lambda x : x + 5 \n",
    "\n",
    "y = 15\n",
    "print(lambda_func_add(y))"
   ]
  },
  {
   "cell_type": "code",
   "execution_count": 48,
   "metadata": {},
   "outputs": [
    {
     "name": "stdout",
     "output_type": "stream",
     "text": [
      "5\n"
     ]
    }
   ],
   "source": [
    "max_of_two = lambda x,y : x if x>y else y\n",
    "print (max_of_two(4,5))"
   ]
  },
  {
   "cell_type": "code",
   "execution_count": 50,
   "metadata": {},
   "outputs": [
    {
     "name": "stdout",
     "output_type": "stream",
     "text": [
      "[1, 4, 9, 16, 25, 36, 49, 64, 81]\n"
     ]
    }
   ],
   "source": [
    "# map function in python\n",
    "list1 = [1,2,3,4,5,6,7,8,9]\n",
    "\n",
    "sqr_of_list = lambda x : x*x\n",
    "\n",
    "list2 = map(sqr_of_list, list1)\n",
    "print(list(list2))\n",
    "\n",
    "#syntax \n",
    "#map(function,iterable)"
   ]
  },
  {
   "cell_type": "code",
   "execution_count": 52,
   "metadata": {},
   "outputs": [
    {
     "name": "stdout",
     "output_type": "stream",
     "text": [
      "[2.0, 3.0, 1.5, 3.0, 4.0, 2.0, 1.5, 1.0]\n"
     ]
    }
   ],
   "source": [
    "list3 = [4,6,3,6,8,4,3,2]\n",
    "idk_list = lambda x : x/2 \n",
    "idk2 = map(idk_list, list3)\n",
    "print(list(idk2))"
   ]
  },
  {
   "cell_type": "code",
   "execution_count": 54,
   "metadata": {},
   "outputs": [
    {
     "name": "stdout",
     "output_type": "stream",
     "text": [
      "21\n"
     ]
    }
   ],
   "source": [
    "import functools\n",
    "\n",
    "list9 = [1,2,3,4,5,6]\n",
    "\n",
    "add_func = lambda x,y : x + y\n",
    "added_list = functools.reduce(add_func, list9)\n",
    "print(added_list)"
   ]
  },
  {
   "cell_type": "code",
   "execution_count": 57,
   "metadata": {},
   "outputs": [
    {
     "name": "stdout",
     "output_type": "stream",
     "text": [
      "[2, 6, 8]\n"
     ]
    }
   ],
   "source": [
    "seq = [1,2,3,5,6,8,9]\n",
    "filter_seq = lambda x : x%2==0\n",
    "fillseq = filter(filter_seq, seq)\n",
    "print(list(fillseq))"
   ]
  },
  {
   "cell_type": "code",
   "execution_count": 64,
   "metadata": {},
   "outputs": [
    {
     "name": "stdout",
     "output_type": "stream",
     "text": [
      "[1, 2, 3, 4, 5, 6, 7, 8, 9, 10]\n"
     ]
    }
   ],
   "source": [
    "list_empty = []\n",
    "for i in range (1,11):\n",
    "    list_empty.append(i)\n",
    "\n",
    "print(list_empty)\n"
   ]
  },
  {
   "cell_type": "code",
   "execution_count": 65,
   "metadata": {},
   "outputs": [
    {
     "name": "stdout",
     "output_type": "stream",
     "text": [
      "[1, 2, 3, 4, 5, 6, 7, 8, 9, 10]\n"
     ]
    }
   ],
   "source": [
    "result = [ x for x in range (1,11)]\n",
    "print(result)"
   ]
  },
  {
   "cell_type": "code",
   "execution_count": 66,
   "metadata": {},
   "outputs": [
    {
     "name": "stdout",
     "output_type": "stream",
     "text": [
      "[1, 2, 9, 10, -1, -5, -6]\n"
     ]
    }
   ],
   "source": [
    "list_a = [1,-1,2,-5,9,10,-6]\n",
    "result = [ x for x in list_a if x>0 ] + [ x for x in list_a if x<0 ]\n",
    "print(result)"
   ]
  }
 ],
 "metadata": {
  "kernelspec": {
   "display_name": "Python 3",
   "language": "python",
   "name": "python3"
  },
  "language_info": {
   "codemirror_mode": {
    "name": "ipython",
    "version": 3
   },
   "file_extension": ".py",
   "mimetype": "text/x-python",
   "name": "python",
   "nbconvert_exporter": "python",
   "pygments_lexer": "ipython3",
   "version": "3.9.6"
  }
 },
 "nbformat": 4,
 "nbformat_minor": 2
}
